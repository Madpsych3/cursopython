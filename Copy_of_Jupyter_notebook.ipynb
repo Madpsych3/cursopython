{
  "nbformat": 4,
  "nbformat_minor": 0,
  "metadata": {
    "colab": {
      "provenance": []
    },
    "kernelspec": {
      "name": "python3",
      "display_name": "Python 3"
    },
    "language_info": {
      "name": "python"
    }
  },
  "cells": [
    {
      "cell_type": "code",
      "execution_count": null,
      "metadata": {
        "colab": {
          "base_uri": "https://localhost:8080/"
        },
        "id": "MzcPdvXJpvXh",
        "outputId": "6b7db59f-d05d-45e5-93c4-1d59aecfdc0b"
      },
      "outputs": [
        {
          "output_type": "stream",
          "name": "stdout",
          "text": [
            "Fala dev, tudo bem?\n"
          ]
        }
      ],
      "source": [
        "print(\"Fala dev, tudo bem?\")"
      ]
    },
    {
      "cell_type": "code",
      "source": [
        "num = 3"
      ],
      "metadata": {
        "id": "uL1wOouyR-PN"
      },
      "execution_count": null,
      "outputs": []
    },
    {
      "cell_type": "code",
      "source": [
        "num = num + 2"
      ],
      "metadata": {
        "id": "emeTJhDnSEVm"
      },
      "execution_count": null,
      "outputs": []
    },
    {
      "cell_type": "markdown",
      "source": [
        "#Jypyter notebook\n",
        "É um ambiente que viabiliza\n",
        "- Execução de códigos\n",
        "- Criação de documento com texto formato\n",
        "- Plotagem de gráficos\n",
        "\n",
        "> É frequente usado para anotações de aula\n",
        "\n"
      ],
      "metadata": {
        "id": "WLIlyRuaVEeC"
      }
    },
    {
      "cell_type": "code",
      "source": [
        "print(\"Testando abertura de pasta no Github\")"
      ],
      "metadata": {
        "colab": {
          "base_uri": "https://localhost:8080/"
        },
        "id": "UOg49yheVK2B",
        "outputId": "4a914d48-048a-48aa-b4ed-c984e003b7ff"
      },
      "execution_count": null,
      "outputs": [
        {
          "output_type": "stream",
          "name": "stdout",
          "text": [
            "Testando abertura de pasta no Github\n"
          ]
        }
      ]
    }
  ]
}